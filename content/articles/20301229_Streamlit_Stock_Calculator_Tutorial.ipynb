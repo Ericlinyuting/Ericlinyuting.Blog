{
 "cells": [
  {
   "cell_type": "markdown",
   "metadata": {},
   "source": [
    "- author: Eric Lin\n",
    "- date: 2023-12-29 16:00\n",
    "- title: 利用Streamlit打造股利計算機\n",
    "- slug: stock-calculator-by-streamlit\n",
    "- tags: python , streamlit , dashboard ,資料科學, data-science\n",
    "- description: Streamlit 是一個開源python web框架，擅長搭配機器學習與資料科學的展示，不需要具備任何前端網頁技術與框架，就可以透過python純後端的語法輕鬆架構出dashboard與app！本篇以股利計算機為例，實際展示如何建構自己的dashboard app!\n",
    "- summary: Streamlit 是一個開源python web框架，擅長搭配機器學習與資料科學的展示，不需要具備任何前端網頁技術與框架，就可以透過python純後端的語法輕鬆架構出dashboard與app！本篇以股利計算機為例，實際展示如何建構自己的dashboard app!\n",
    "- image: stephen-dawson-qwtCeJ5cLYs-unsplash.jpg\n",
    "- image_credit_url: https://unsplash.com/photos/turned-on-monitoring-screen-qwtCeJ5cLYs"
   ]
  }
 ],
 "metadata": {
  "language_info": {
   "name": "python"
  }
 },
 "nbformat": 4,
 "nbformat_minor": 2
}
