{
 "cells": [
  {
   "cell_type": "markdown",
   "metadata": {},
   "source": [
    "- author: Eric Lin\n",
    "- date: 2023-12-29 16:00\n",
    "- title: 利用Streamlit打造股利計算機\n",
    "- slug: stock-calculator-by-streamlit\n",
    "- tags: python , streamlit , dashboard ,資料科學, data-science\n",
    "- description: Streamlit 是一個開源python web框架，擅長搭配機器學習與資料科學的展示，不需要具備任何前端網頁技術與框架，就可以透過python純後端的語法輕鬆架構出dashboard與app！本篇以股利計算機為例，實際展示如何建構自己的dashboard app!\n",
    "- summary: Streamlit 是一個開源python web框架，擅長搭配機器學習與資料科學的展示，不需要具備任何前端網頁技術與框架，就可以透過python純後端的語法輕鬆架構出dashboard與app！本篇以股利計算機為例，實際展示如何建構自己的dashboard app!\n",
    "- image: stephen-dawson-qwtCeJ5cLYs-unsplash.jpg\n",
    "- image_credit_url: https://unsplash.com/photos/turned-on-monitoring-screen-qwtCeJ5cLYs"
   ]
  },
  {
   "cell_type": "markdown",
   "metadata": {},
   "source": [
    "## Streamlit"
   ]
  },
  {
   "cell_type": "markdown",
   "metadata": {},
   "source": [
    "[Streamlit](https://streamlit.io) 是一個開源python web框架，擅長搭配機器學習與資料科學的展示，不需要具備任何前端網頁技術與框架，就可以透過python純後端的語法輕鬆架構出dashboard與app！[Streamlit](https://streamlit.io)身為土生土長的python語言，不意外的擁有[pandas](https://pandas.pydata.org)、[numpy](https://numpy.org)等資料處理套件，同時也可以結合了python強大的視覺化套件如[matplotlib](https://matplotlib.org)、[seaborn](https://seaborn.pydata.org)、[plotly](https://plotly.com/python/)等等、甚至是[geopandas](https://geopandas.org/en/stable/)、[cartopy](https://scitools.org.uk/cartopy/docs/latest/)等地理資訊套件。"
   ]
  }
 ],
 "metadata": {
  "language_info": {
   "name": "python"
  }
 },
 "nbformat": 4,
 "nbformat_minor": 2
}
